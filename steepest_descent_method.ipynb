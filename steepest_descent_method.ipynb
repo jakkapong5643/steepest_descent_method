{
  "nbformat": 4,
  "nbformat_minor": 0,
  "metadata": {
    "colab": {
      "private_outputs": true,
      "provenance": []
    },
    "kernelspec": {
      "name": "python3",
      "display_name": "Python 3"
    },
    "language_info": {
      "name": "python"
    }
  },
  "cells": [
    {
      "cell_type": "code",
      "source": [
        "import sympy as sp\n",
        "import math\n",
        "import pandas as pd\n",
        "from tabulate import tabulate\n",
        "import numpy as np\n",
        "from random import randint\n",
        "import random\n",
        "import matplotlib.pyplot as plt\n",
        "from google.colab import data_table\n",
        "from numpy.linalg import norm\n",
        "import warnings\n",
        "warnings.filterwarnings(\"ignore\", category=FutureWarning)"
      ],
      "metadata": {
        "id": "Jnctwl-rbJgp"
      },
      "execution_count": null,
      "outputs": []
    },
    {
      "cell_type": "code",
      "source": [
        "# Define a function to find L\n",
        "def find_L(f, gradient, X, D, symbols_list):\n",
        "    L = sp.symbols('L')\n",
        "    phi = f.subs(list(zip(symbols_list, [x + L * d for x, d in zip(X, D)])))\n",
        "    diff_phi = sp.diff(phi, L)\n",
        "    L_value = sp.solve(diff_phi, L)[0]\n",
        "    return L_value.evalf()\n",
        "\n",
        "# Define the steepest_descent function\n",
        "def steepest_descent(f, gradient, initial_point, symbols_list, num_classes, e=0.000001, max_iterations=7):\n",
        "    X = initial_point\n",
        "    df_columns = [\"Iteration\", \"X\", \"f(x)\", \"g(x)\", \"norm(gx)\", \"d\", \"L\"]\n",
        "    df = pd.DataFrame(columns=df_columns)\n",
        "    normgx_values = []\n",
        "\n",
        "    iter = 1\n",
        "\n",
        "    for iteration in range(max_iterations):\n",
        "        # Find g(x)\n",
        "        g_ = [g_i.subs(list(zip(symbols_list, X))) for g_i in gradient]\n",
        "        normgx = math.sqrt(sum(g_i**2 for g_i in g_))\n",
        "        normgx_values.append(normgx)\n",
        "\n",
        "        # If normgx < e, stop\n",
        "        if normgx < e:\n",
        "            break\n",
        "\n",
        "        # Find D\n",
        "        D = [-g_i for g_i in g_]\n",
        "\n",
        "        # Find L\n",
        "        L = find_L(f, gradient, X, D, symbols_list)\n",
        "\n",
        "        # Update X\n",
        "        X = [x + L * d for x, d in zip(X, D)]\n",
        "\n",
        "        # Add data into dataframe\n",
        "        df = df.append({\n",
        "            \"Iteration\": iteration + 1,\n",
        "            \"X\": [round(p, 4) for p in X],\n",
        "            \"f(x)\": round(f.subs(list(zip(symbols_list, X))), 4),\n",
        "            \"g(x)\": [round(g_i, 4) for g_i in g_],\n",
        "            \"norm(gx)\": round(normgx, 4),\n",
        "            \"d\": [round(d_i, 4) for d_i in D],\n",
        "            \"L\": round(L, 4)\n",
        "        }, ignore_index=True)\n",
        "\n",
        "        print(\"Iteration :\",iter)\n",
        "        iter = iter + 1\n",
        "        print(\"normg(x) :\",normgx_values[-1])\n",
        "    return df, normgx_values\n",
        "\n",
        "# Define a function to compare matrices\n",
        "def compare_matrices(matrix1, matrix2):\n",
        "    score = 0\n",
        "    if len(matrix1) != len(matrix2) or len(matrix1[0]) != len(matrix2[0]):\n",
        "        return \"เมทริกซ์มีขนาดไม่เท่ากัน\"\n",
        "\n",
        "    for i in range(len(matrix1)):\n",
        "        for j in range(len(matrix1[0])):\n",
        "            if matrix1[i][j] == 1 and matrix2[i][j] == 1:\n",
        "                score += 1\n",
        "    return score"
      ],
      "metadata": {
        "id": "d7zdJ42nhtEj"
      },
      "execution_count": null,
      "outputs": []
    },
    {
      "cell_type": "markdown",
      "source": [
        "### Spilt Data"
      ],
      "metadata": {
        "id": "wJ4alikHBjyd"
      }
    },
    {
      "cell_type": "code",
      "source": [
        "# Read data\n",
        "Y = pd.read_excel('/content/M.xlsx')\n",
        "Y"
      ],
      "metadata": {
        "id": "VOo3goDNShWd"
      },
      "execution_count": null,
      "outputs": []
    },
    {
      "cell_type": "code",
      "source": [
        "# Spilt X Y\n",
        "X = Y.drop('Target',axis = 1 )\n",
        "Y = Y['Target']\n",
        "\n",
        "# หาค่าที่ไม่ซ้ำกันในคอลัมน์ Target_Test เพื่อใช้เป็น index ของ vectors\n",
        "unique_targets = Y.unique()\n",
        "num_classes = len(unique_targets)\n",
        "col_Train = X.shape[1]\n",
        "\n",
        "# Define % Test\n",
        "Spilt = 0.2\n",
        "TTSpilt=int(Y.shape[0]-Y.shape[0]*Spilt)\n",
        "\n",
        "col_Train = X.shape[1]\n",
        "\n",
        "Row_Y_train = TTSpilt\n",
        "Row_Y_Test = Y.shape[0]-TTSpilt\n",
        "Row_X_train = TTSpilt\n",
        "Row_X_Test = Y.shape[0]-TTSpilt\n",
        "\n",
        "X_train = X[: TTSpilt]\n",
        "Y_train = Y[: TTSpilt]\n",
        "X_test = X[TTSpilt :]\n",
        "Y_test = Y[TTSpilt :]"
      ],
      "metadata": {
        "id": "MPNzhfwD3zfP"
      },
      "execution_count": null,
      "outputs": []
    },
    {
      "cell_type": "code",
      "source": [
        "Target_Test = Y_test\n",
        "\n",
        "# สร้าง vectors โดยใช้การสร้างเวกเตอร์ขนาดเท่ากับจำนวน unique_targets\n",
        "vectors = {}\n",
        "for i, target in enumerate(unique_targets):\n",
        "    vector = [0] * len(unique_targets)\n",
        "    vector[i] = 1\n",
        "    vectors[target] = vector\n",
        "\n",
        "# Create vector_list from Target_Test\n",
        "vector_list = [vectors[num] for num in Target_Test]\n",
        "\n",
        "# Create DataFrame for Target_Test\n",
        "Target_Test = vector_list"
      ],
      "metadata": {
        "id": "gr87jwXZDbgR"
      },
      "execution_count": null,
      "outputs": []
    },
    {
      "cell_type": "code",
      "source": [
        "row = Y.shape[0]\n",
        "# Find Target_Train\n",
        "Target_Train = Y_train\n",
        "\n",
        "# สร้าง vectors โดยใช้การสร้างเวกเตอร์ขนาดเท่ากับจำนวน unique_targets\n",
        "vectors = {}\n",
        "for i, target in enumerate(unique_targets):\n",
        "    vector = [0] * len(unique_targets)\n",
        "    vector[i] = 1\n",
        "    vectors[target] = vector\n",
        "\n",
        "# Create vector_list from Target_Train\n",
        "vector_list = [vectors[num] for num in Target_Train]\n",
        "\n",
        "# Create DataFrame for Target_Train\n",
        "Target_Train = vector_list\n",
        "\n",
        "X_train = X_train.values\n",
        "Y_train = Y_train.values\n",
        "X_test = X_test.values\n",
        "Y_test = Y_test.values"
      ],
      "metadata": {
        "id": "KGbWUXL0_Ae_"
      },
      "execution_count": null,
      "outputs": []
    },
    {
      "cell_type": "markdown",
      "source": [
        "### Define Node"
      ],
      "metadata": {
        "id": "VCYFNvmEBwGF"
      }
    },
    {
      "cell_type": "code",
      "source": [
        "# Generate matrices W and B with random values in the range 0-10\n",
        "Node = int(input(\"Nodes: \"))\n",
        "W = np.random.randint(0, 10, size=(Node, col_Train))\n",
        "B = np.random.randint(0, 10, size=Node)"
      ],
      "metadata": {
        "id": "Za9F6KViiOXV"
      },
      "execution_count": null,
      "outputs": []
    },
    {
      "cell_type": "markdown",
      "source": [
        "### Train"
      ],
      "metadata": {
        "id": "gWh8GXefBz2u"
      }
    },
    {
      "cell_type": "code",
      "source": [
        "# Create symbols_list\n",
        "symbols_list = [sp.symbols(f'x{i+1}') for i in range(Node * num_classes)]\n",
        "\n",
        "# Convert symbols_list to sympy symbols\n",
        "symbols_list = [sym if isinstance(sym, sp.Symbol) else sp.Symbol(sym) for sym in symbols_list]\n",
        "\n",
        "# Create X is array\n",
        "X = np.array(symbols_list)\n",
        "\n",
        "Z = W @ X_train.transpose() + B.reshape(-1,1)\n",
        "\n",
        "A = 1 / (1 + math.e*(-Z))\n",
        "\n",
        "result = A.transpose() @ X.reshape(Node, num_classes) - Target_Train\n",
        "f = (np.sum(result ** 2))\n",
        "\n",
        "gradient = [sp.diff(f, var) for var in symbols_list]\n",
        "\n",
        "# Generate initial_point\n",
        "initial_point = [random.randint(-100, 100) for _ in range( Node * num_classes )]\n",
        "\n",
        "# Use steepest_descent and find_L\n",
        "result_df, normgx_values = steepest_descent(f, gradient, initial_point, symbols_list, num_classes)\n",
        "\n",
        "table = tabulate(result_df, headers='keys', tablefmt='fancy_grid', showindex=False)"
      ],
      "metadata": {
        "id": "njLiOdaea42_"
      },
      "execution_count": null,
      "outputs": []
    },
    {
      "cell_type": "markdown",
      "source": [
        "### Plot"
      ],
      "metadata": {
        "id": "NLXrHEobKfQF"
      }
    },
    {
      "cell_type": "code",
      "source": [
        "print(table)\n",
        "print(\"initial_point = \",initial_point)\n",
        "\n",
        "plt.plot(normgx_values, marker='.')\n",
        "plt.xlabel('Iteration')\n",
        "plt.ylabel('norm(gx)')\n",
        "plt.title('Norm of Gradient vs Iteration')\n",
        "plt.show()"
      ],
      "metadata": {
        "id": "EuxI7a6DbRba"
      },
      "execution_count": null,
      "outputs": []
    },
    {
      "cell_type": "markdown",
      "source": [
        "### Score"
      ],
      "metadata": {
        "id": "F_Mr5ceXKijf"
      }
    },
    {
      "cell_type": "markdown",
      "source": [
        "#### Train"
      ],
      "metadata": {
        "id": "Imzsi2eDKnAQ"
      }
    },
    {
      "cell_type": "code",
      "source": [
        "# นำ X ที่หาได้คำนวนเพื่อหาผลลัพ\n",
        "min_norm_index = result_df['norm(gx)'].idxmin()\n",
        "newX = np.array(result_df['X'].iloc[min_norm_index])\n",
        "\n",
        "newX = newX.reshape(Node , num_classes)\n",
        "print(newX)\n",
        "O_train = A.transpose() @ newX\n",
        "OO_train = math.e**O_train\n",
        "OO_train\n",
        "\n",
        "OO_sum_train = np.sum(OO_train, axis=1)\n",
        "O_01_train = OO_train / OO_sum_train[:, np.newaxis]"
      ],
      "metadata": {
        "id": "eJlPq7dFcOkg"
      },
      "execution_count": null,
      "outputs": []
    },
    {
      "cell_type": "code",
      "source": [
        "result_train = []\n",
        "\n",
        "for val in O_01_train:\n",
        "    max_val_index = np.argmax(val)\n",
        "    result_train.append([1 if i == max_val_index else 0 for i in range(len(val))])\n",
        "\n",
        "df_result_train = pd.DataFrame(result_train)"
      ],
      "metadata": {
        "id": "-YMXYNgkc7NE"
      },
      "execution_count": null,
      "outputs": []
    },
    {
      "cell_type": "code",
      "source": [
        "print(\"คะแนนที่ได้:\", compare_matrices(result_train, Target_Train),\"/\", Row_Y_train)\n",
        "Accuracy = (compare_matrices(result_train, Target_Train) / Row_Y_train)\n",
        "print(f\"Accuracy Score = {Accuracy}\")"
      ],
      "metadata": {
        "id": "YA5BXUQFelOH"
      },
      "execution_count": null,
      "outputs": []
    },
    {
      "cell_type": "markdown",
      "source": [
        "#### Test"
      ],
      "metadata": {
        "id": "c_aW1gMdB2W3"
      }
    },
    {
      "cell_type": "code",
      "source": [
        "Z_test = W @ X_test.transpose() + B.reshape(-1,1)\n",
        "\n",
        "A_test = 1 / (1 + math.e*(-Z_test))\n",
        "\n",
        "O_test = A_test.transpose() @ newX\n",
        "OO_test = math.e**O_test\n",
        "OO_test\n",
        "\n",
        "OO_sum_test = np.sum(OO_test, axis=1)\n",
        "O_01_test = OO_test / OO_sum_test[:, np.newaxis]"
      ],
      "metadata": {
        "id": "Xb7RQuF4B4GW"
      },
      "execution_count": null,
      "outputs": []
    },
    {
      "cell_type": "code",
      "source": [
        "result_test = []\n",
        "\n",
        "for val in O_01_test:\n",
        "    max_val_index = np.argmax(val)\n",
        "    result_test.append([1 if i == max_val_index else 0 for i in range(len(val))])\n",
        "\n",
        "df_result_test = pd.DataFrame(result_test)"
      ],
      "metadata": {
        "id": "brPkzTrREvcR"
      },
      "execution_count": null,
      "outputs": []
    },
    {
      "cell_type": "code",
      "source": [
        "print(\"คะแนนที่ได้:\", compare_matrices(result_test, Target_Test),\"/\", Row_Y_Test)\n",
        "Accuracy = (compare_matrices(result_test, Target_Test) / Row_Y_Test)\n",
        "print(f\"Accuracy Score = {Accuracy}\")"
      ],
      "metadata": {
        "id": "hOGvyTgaEmes"
      },
      "execution_count": null,
      "outputs": []
    }
  ]
}